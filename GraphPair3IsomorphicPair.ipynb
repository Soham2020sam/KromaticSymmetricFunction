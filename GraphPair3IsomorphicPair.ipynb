{
 "cells": [
  {
   "cell_type": "code",
   "execution_count": 1,
   "id": "c566047c-37dc-4443-a728-d3804083c82e",
   "metadata": {},
   "outputs": [],
   "source": [
    "from sage.all import *\n",
    "from itertools import combinations\n",
    "from sage.graphs.independent_sets import IndependentSets\n",
    "\n",
    "\n",
    "def independence_polynomial(graph):\n",
    "    counts = {}\n",
    "    for indep_set in IndependentSets(graph):\n",
    "        k = len(indep_set)\n",
    "        counts[k] = counts.get(k, 0) + 1\n",
    "    R.<x> = PolynomialRing(QQ)\n",
    "    poly = sum(c * x^k for k, c in sorted(counts.items()))\n",
    "    return poly\n",
    "\n",
    "def all_induced_subgraphs_polynomials(G):\n",
    "    n = G.order()\n",
    "    vertices = G.vertices()\n",
    "    results = []\n",
    "    for r in range(1, n+1):\n",
    "        for subset in combinations(vertices, r):\n",
    "            subG = G.subgraph(subset)\n",
    "            poly = independence_polynomial(subG)\n",
    "            results.append(poly)\n",
    "    return results\n",
    "G1 = Graph({1:[2,3,4], 2:[1,3,5,7], 3:[1,2,4,5,6], 4:[1,3,6], 5:[1,2,3,7], 6:[1,3,4,7,8], 7:[2,5,6,8], 8:[4,5,6,7]})\n",
    "G2 = Graph({1:[2,3,4], 2:[1,5,7,8], 3:[1,4,5,6,7], 4:[1,3,6], 5:[1,2,3,7], 6:[1,3,4,7], 7:[2,3,5,6,8], 8:[2,4,5,7]})\n",
    "vertices1 = G1.vertices()\n",
    "vertices2 = G2.vertices()\n",
    "for subset in combinations(vertices1, 7):\n",
    "    for subset2 in combinations(vertices2, 7):\n",
    "        G3 = G1.copy()\n",
    "        G4 = G2.copy()\n",
    "        subG3 = G3.subgraph(subset)\n",
    "        subG4 = G4.subgraph(subset2)\n",
    "        polys1 = sorted(str(p) for p in all_induced_subgraphs_polynomials(subG3))\n",
    "        polys2 = sorted(str(p) for p in all_induced_subgraphs_polynomials(subG4))\n",
    "        if subG3.is_isomorphic(subG4) and polys1 == polys2:\n",
    "            print(subset)\n",
    "            print(subset2)\n",
    "            print(\"\\n\")"
   ]
  },
  {
   "cell_type": "code",
   "execution_count": null,
   "id": "67bfe571-8d54-4bfb-88e7-fed9d1a2cdd8",
   "metadata": {},
   "outputs": [],
   "source": []
  }
 ],
 "metadata": {
  "kernelspec": {
   "display_name": "SageMath 10.7",
   "language": "sage",
   "name": "sagemath-10.7"
  },
  "language_info": {
   "codemirror_mode": {
    "name": "ipython",
    "version": 3
   },
   "file_extension": ".py",
   "mimetype": "text/x-python",
   "name": "python",
   "nbconvert_exporter": "python",
   "pygments_lexer": "ipython3",
   "version": "3.13.3"
  }
 },
 "nbformat": 4,
 "nbformat_minor": 5
}
