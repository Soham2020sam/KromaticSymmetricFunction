{
 "cells": [
  {
   "cell_type": "code",
   "execution_count": 2,
   "id": "0f93efc5-221f-4dd3-8b75-da5eed03fc2e",
   "metadata": {},
   "outputs": [
    {
     "ename": "KeyboardInterrupt",
     "evalue": "",
     "output_type": "error",
     "traceback": [
      "\u001b[31m---------------------------------------------------------------------------\u001b[39m",
      "\u001b[31mKeyboardInterrupt\u001b[39m                         Traceback (most recent call last)",
      "\u001b[36mCell\u001b[39m\u001b[36m \u001b[39m\u001b[32mIn[2]\u001b[39m\u001b[32m, line 26\u001b[39m\n\u001b[32m     24\u001b[39m \u001b[38;5;28;01mfor\u001b[39;00m G2 \u001b[38;5;129;01min\u001b[39;00m all_graphs:\n\u001b[32m     25\u001b[39m     \u001b[38;5;28;01mif\u001b[39;00m \u001b[38;5;129;01mnot\u001b[39;00m G.is_isomorphic(G2):\n\u001b[32m---> \u001b[39m\u001b[32m26\u001b[39m         polys1 = \u001b[38;5;28msorted\u001b[39m(\u001b[38;5;28mstr\u001b[39m(p) \u001b[38;5;28;01mfor\u001b[39;00m p \u001b[38;5;129;01min\u001b[39;00m \u001b[43mall_induced_subgraphs_polynomials\u001b[49m\u001b[43m(\u001b[49m\u001b[43mG\u001b[49m\u001b[43m)\u001b[49m)\n\u001b[32m     27\u001b[39m         polys2 = \u001b[38;5;28msorted\u001b[39m(\u001b[38;5;28mstr\u001b[39m(p) \u001b[38;5;28;01mfor\u001b[39;00m p \u001b[38;5;129;01min\u001b[39;00m all_induced_subgraphs_polynomials(G2))\n\u001b[32m     28\u001b[39m         \u001b[38;5;28;01mif\u001b[39;00m polys1 == polys2:\n",
      "\u001b[36mCell\u001b[39m\u001b[36m \u001b[39m\u001b[32mIn[2]\u001b[39m\u001b[32m, line 19\u001b[39m, in \u001b[36mall_induced_subgraphs_polynomials\u001b[39m\u001b[34m(G)\u001b[39m\n\u001b[32m     17\u001b[39m     \u001b[38;5;28;01mfor\u001b[39;00m subset \u001b[38;5;129;01min\u001b[39;00m combinations(vertices, r):\n\u001b[32m     18\u001b[39m         subG = G.subgraph(subset)\n\u001b[32m---> \u001b[39m\u001b[32m19\u001b[39m         poly = \u001b[43mindependence_polynomial\u001b[49m\u001b[43m(\u001b[49m\u001b[43msubG\u001b[49m\u001b[43m)\u001b[49m\n\u001b[32m     20\u001b[39m         results.append(poly)\n\u001b[32m     21\u001b[39m \u001b[38;5;28;01mreturn\u001b[39;00m results\n",
      "\u001b[36mCell\u001b[39m\u001b[36m \u001b[39m\u001b[32mIn[2]\u001b[39m\u001b[32m, line 10\u001b[39m, in \u001b[36mindependence_polynomial\u001b[39m\u001b[34m(graph)\u001b[39m\n\u001b[32m      8\u001b[39m     counts[k] = counts.get(k, Integer(\u001b[32m0\u001b[39m)) + Integer(\u001b[32m1\u001b[39m)\n\u001b[32m      9\u001b[39m R = PolynomialRing(QQ, names=(\u001b[33m'\u001b[39m\u001b[33mx\u001b[39m\u001b[33m'\u001b[39m,)); (x,) = R._first_ngens(\u001b[32m1\u001b[39m)\n\u001b[32m---> \u001b[39m\u001b[32m10\u001b[39m poly = \u001b[38;5;28;43msum\u001b[39;49m\u001b[43m(\u001b[49m\u001b[43mc\u001b[49m\u001b[43m \u001b[49m\u001b[43m*\u001b[49m\u001b[43m \u001b[49m\u001b[43mx\u001b[49m\u001b[43m*\u001b[49m\u001b[43m*\u001b[49m\u001b[43mk\u001b[49m\u001b[43m \u001b[49m\u001b[38;5;28;43;01mfor\u001b[39;49;00m\u001b[43m \u001b[49m\u001b[43mk\u001b[49m\u001b[43m,\u001b[49m\u001b[43m \u001b[49m\u001b[43mc\u001b[49m\u001b[43m \u001b[49m\u001b[38;5;129;43;01min\u001b[39;49;00m\u001b[43m \u001b[49m\u001b[38;5;28;43msorted\u001b[39;49m\u001b[43m(\u001b[49m\u001b[43mcounts\u001b[49m\u001b[43m.\u001b[49m\u001b[43mitems\u001b[49m\u001b[43m(\u001b[49m\u001b[43m)\u001b[49m\u001b[43m)\u001b[49m\u001b[43m)\u001b[49m\n\u001b[32m     11\u001b[39m \u001b[38;5;28;01mreturn\u001b[39;00m poly\n",
      "\u001b[36mFile \u001b[39m\u001b[32m/private/var/tmp/sage-10.7-current/local/lib/python3.13/site-packages/sage/misc/functional.py:588\u001b[39m, in \u001b[36msymbolic_sum\u001b[39m\u001b[34m(expression, *args, **kwds)\u001b[39m\n\u001b[32m    586\u001b[39m     \u001b[38;5;28;01mreturn\u001b[39;00m expression.sum(*args, **kwds)\n\u001b[32m    587\u001b[39m \u001b[38;5;28;01mif\u001b[39;00m \u001b[38;5;28mmax\u001b[39m(\u001b[38;5;28mlen\u001b[39m(args), \u001b[38;5;28mlen\u001b[39m(kwds)) <= \u001b[32m1\u001b[39m:\n\u001b[32m--> \u001b[39m\u001b[32m588\u001b[39m     \u001b[38;5;28;01mreturn\u001b[39;00m \u001b[38;5;28;43msum\u001b[39;49m\u001b[43m(\u001b[49m\u001b[43mexpression\u001b[49m\u001b[43m,\u001b[49m\u001b[43m \u001b[49m\u001b[43m*\u001b[49m\u001b[43margs\u001b[49m\u001b[43m,\u001b[49m\u001b[43m \u001b[49m\u001b[43m*\u001b[49m\u001b[43m*\u001b[49m\u001b[43mkwds\u001b[49m\u001b[43m)\u001b[49m\n\u001b[32m    589\u001b[39m \u001b[38;5;28;01mfrom\u001b[39;00m\u001b[38;5;250m \u001b[39m\u001b[34;01msage\u001b[39;00m\u001b[34;01m.\u001b[39;00m\u001b[34;01msymbolic\u001b[39;00m\u001b[34;01m.\u001b[39;00m\u001b[34;01mring\u001b[39;00m\u001b[38;5;250m \u001b[39m\u001b[38;5;28;01mimport\u001b[39;00m SR\n\u001b[32m    590\u001b[39m \u001b[38;5;28;01mreturn\u001b[39;00m SR(expression).sum(*args, **kwds)\n",
      "\u001b[36mCell\u001b[39m\u001b[36m \u001b[39m\u001b[32mIn[2]\u001b[39m\u001b[32m, line 10\u001b[39m, in \u001b[36m<genexpr>\u001b[39m\u001b[34m(.0)\u001b[39m\n\u001b[32m      8\u001b[39m     counts[k] = counts.get(k, Integer(\u001b[32m0\u001b[39m)) + Integer(\u001b[32m1\u001b[39m)\n\u001b[32m      9\u001b[39m R = PolynomialRing(QQ, names=(\u001b[33m'\u001b[39m\u001b[33mx\u001b[39m\u001b[33m'\u001b[39m,)); (x,) = R._first_ngens(\u001b[32m1\u001b[39m)\n\u001b[32m---> \u001b[39m\u001b[32m10\u001b[39m poly = \u001b[38;5;28msum\u001b[39m(c * x**k \u001b[38;5;28;01mfor\u001b[39;00m k, c \u001b[38;5;129;01min\u001b[39;00m \u001b[38;5;28msorted\u001b[39m(counts.items()))\n\u001b[32m     11\u001b[39m \u001b[38;5;28;01mreturn\u001b[39;00m poly\n",
      "\u001b[36mFile \u001b[39m\u001b[32msignals.pyx:355\u001b[39m, in \u001b[36mcysignals.signals.python_check_interrupt\u001b[39m\u001b[34m()\u001b[39m\n",
      "\u001b[31mKeyboardInterrupt\u001b[39m: "
     ]
    }
   ],
   "source": [
    "from sage.all import *\n",
    "from itertools import combinations\n",
    "from sage.graphs.independent_sets import IndependentSets\n",
    "def independence_polynomial(graph):\n",
    "    counts = {}\n",
    "    for indep_set in IndependentSets(graph):\n",
    "        k = len(indep_set)\n",
    "        counts[k] = counts.get(k, 0) + 1\n",
    "    R.<x> = PolynomialRing(QQ)\n",
    "    poly = sum(c * x^k for k, c in sorted(counts.items()))\n",
    "    return poly\n",
    "def all_induced_subgraphs_polynomials(G):\n",
    "    n = G.order()\n",
    "    vertices = G.vertices()\n",
    "    results = []\n",
    "    for r in range(1, 1 + n):\n",
    "        for subset in combinations(vertices, r):\n",
    "            subG = G.subgraph(subset)\n",
    "            poly = independence_polynomial(subG)\n",
    "            results.append(poly)\n",
    "    return results\n",
    "all_graphs = list(graphs(8))\n",
    "for G in all_graphs:\n",
    "    for G2 in all_graphs:\n",
    "        if not G.is_isomorphic(G2):\n",
    "            polys1 = sorted(str(p) for p in all_induced_subgraphs_polynomials(G))\n",
    "            polys2 = sorted(str(p) for p in all_induced_subgraphs_polynomials(G2))\n",
    "            if polys1 == polys2:\n",
    "                print(\"🎉 The two graphs have the same multiset of independence polynomials of all induced subgraphs!\")\n",
    "                show(G)\n",
    "                show(G2)"
   ]
  },
  {
   "cell_type": "code",
   "execution_count": null,
   "id": "6d372ab2-4918-49b6-bb24-c19ad226034d",
   "metadata": {},
   "outputs": [],
   "source": []
  }
 ],
 "metadata": {
  "kernelspec": {
   "display_name": "SageMath 10.7",
   "language": "sage",
   "name": "sagemath-10.7"
  },
  "language_info": {
   "codemirror_mode": {
    "name": "ipython",
    "version": 3
   },
   "file_extension": ".py",
   "mimetype": "text/x-python",
   "name": "python",
   "nbconvert_exporter": "python",
   "pygments_lexer": "ipython3",
   "version": "3.13.3"
  }
 },
 "nbformat": 4,
 "nbformat_minor": 5
}
