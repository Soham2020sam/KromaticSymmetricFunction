{
 "cells": [
  {
   "cell_type": "code",
   "execution_count": 1,
   "id": "112bfa22-04f1-4955-b0b7-13f44521ba99",
   "metadata": {},
   "outputs": [
    {
     "name": "stdout",
     "output_type": "stream",
     "text": [
      "(1, 2, 3, 4, 5, 6, 7)\n",
      "(2, 3, 4, 5, 6, 7, 8)\n",
      "\n",
      "\n",
      "(1, 2, 3, 4, 5, 7, 8)\n",
      "(1, 3, 4, 5, 6, 7, 8)\n",
      "\n",
      "\n",
      "(1, 2, 3, 5, 6, 7, 8)\n",
      "(2, 3, 4, 5, 6, 7, 8)\n",
      "\n",
      "\n",
      "(1, 3, 4, 5, 6, 7, 8)\n",
      "(1, 3, 4, 5, 6, 7, 8)\n",
      "\n",
      "\n"
     ]
    }
   ],
   "source": [
    "from sage.all import *\n",
    "from itertools import combinations\n",
    "from sage.graphs.independent_sets import IndependentSets\n",
    "\n",
    "\n",
    "def independence_polynomial(graph):\n",
    "    counts = {}\n",
    "    for indep_set in IndependentSets(graph):\n",
    "        k = len(indep_set)\n",
    "        counts[k] = counts.get(k, 0) + 1\n",
    "    R.<x> = PolynomialRing(QQ)\n",
    "    poly = sum(c * x^k for k, c in sorted(counts.items()))\n",
    "    return poly\n",
    "\n",
    "def all_induced_subgraphs_polynomials(G):\n",
    "    n = G.order()\n",
    "    vertices = G.vertices()\n",
    "    results = []\n",
    "    for r in range(1, n+1):\n",
    "        for subset in combinations(vertices, r):\n",
    "            subG = G.subgraph(subset)\n",
    "            poly = independence_polynomial(subG)\n",
    "            results.append(poly)\n",
    "    return results\n",
    "G1 = Graph({1:[2,3,5,6,7], 2:[1,4,5,6], 3:[1,4,7,8], 4:[2,3,5,7,8], 5:[1,2,4,6,7,8], 6:[1,2,5,8], 7:[1,3,4,5,8], 8:[3,4,5,6,7]})\n",
    "G2 = Graph({1:[2,3,4,6,7], 2:[1,4,5,6], 3:[1,4,7,8], 4:[1,2,3,7,6,8], 5:[2,6,7,8], 6:[1,2,4,5,8], 7:[1,3,4,5,8], 8:[3,4,5,6,7]})\n",
    "vertices1 = G1.vertices()\n",
    "vertices2 = G2.vertices()\n",
    "for subset in combinations(vertices1, 7):\n",
    "    for subset2 in combinations(vertices2, 7):\n",
    "        G3 = G1.copy()\n",
    "        G4 = G2.copy()\n",
    "        subG3 = G3.subgraph(subset)\n",
    "        subG4 = G4.subgraph(subset2)\n",
    "        polys1 = sorted(str(p) for p in all_induced_subgraphs_polynomials(subG3))\n",
    "        polys2 = sorted(str(p) for p in all_induced_subgraphs_polynomials(subG4))\n",
    "        if subG3.is_isomorphic(subG4) and polys1 == polys2:\n",
    "            print(subset)\n",
    "            print(subset2)\n",
    "            print(\"\\n\")"
   ]
  },
  {
   "cell_type": "code",
   "execution_count": null,
   "id": "09239e4b-1e1f-441b-9502-940fa5569a4a",
   "metadata": {},
   "outputs": [],
   "source": []
  }
 ],
 "metadata": {
  "kernelspec": {
   "display_name": "SageMath 10.7",
   "language": "sage",
   "name": "sagemath-10.7"
  },
  "language_info": {
   "codemirror_mode": {
    "name": "ipython",
    "version": 3
   },
   "file_extension": ".py",
   "mimetype": "text/x-python",
   "name": "python",
   "nbconvert_exporter": "python",
   "pygments_lexer": "ipython3",
   "version": "3.13.3"
  }
 },
 "nbformat": 4,
 "nbformat_minor": 5
}
